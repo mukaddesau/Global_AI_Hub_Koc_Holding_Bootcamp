{
  "nbformat": 4,
  "nbformat_minor": 0,
  "metadata": {
    "colab": {
      "provenance": [],
      "collapsed_sections": [],
      "machine_shape": "hm"
    },
    "kernelspec": {
      "name": "python3",
      "display_name": "Python 3"
    },
    "language_info": {
      "name": "python"
    },
    "accelerator": "TPU"
  },
  "cells": [
    {
      "cell_type": "code",
      "execution_count": 2,
      "metadata": {
        "id": "nmglk5miGG4U"
      },
      "outputs": [],
      "source": [
        "import os \n",
        "import numpy as np\n",
        "import pandas as pd\n",
        "import matplotlib.pyplot as plt\n",
        "import tensorflow as tf\n",
        "from sklearn.model_selection import train_test_split\n",
        "\n",
        "import cv2\n",
        "import glob\n",
        "from numpy import array\n",
        "\n",
        "from google.colab.patches import cv2_imshow"
      ]
    },
    {
      "cell_type": "code",
      "source": [
        "from google.colab import drive\n",
        "drive.mount('/content/drive',force_remount=True)"
      ],
      "metadata": {
        "colab": {
          "base_uri": "https://localhost:8080/"
        },
        "id": "HeD2-VMgINrg",
        "outputId": "da334fd7-550b-4f9f-f524-bc015543a76d"
      },
      "execution_count": 3,
      "outputs": [
        {
          "output_type": "stream",
          "name": "stdout",
          "text": [
            "Mounted at /content/drive\n"
          ]
        }
      ]
    },
    {
      "cell_type": "markdown",
      "source": [
        "#### Read the Data"
      ],
      "metadata": {
        "id": "5rI7PUT6x_WW"
      }
    },
    {
      "cell_type": "code",
      "source": [
        "def read_files(file_name):\n",
        "  data = np.load(f\"/content/drive/My Drive/Colab Notebooks/bootcamp_data/{file_name}.npy\")\n",
        "  return data"
      ],
      "metadata": {
        "id": "vg5eTXnPo_Cq"
      },
      "execution_count": 4,
      "outputs": []
    },
    {
      "cell_type": "code",
      "source": [
        "X_train = read_files('X_train')\n",
        "X_val = read_files('X_val')\n",
        "X_test = read_files('X_test')\n",
        "y_train = read_files('y_train')\n",
        "y_val = read_files('y_val')\n",
        "y_test = read_files('y_test')"
      ],
      "metadata": {
        "id": "xDTyeXPWqxap"
      },
      "execution_count": 5,
      "outputs": []
    },
    {
      "cell_type": "code",
      "source": [
        "print(f\"X_train: {X_train.shape}, y_train: {y_train.shape}\")\n",
        "print(f\"X_val: {X_val.shape} y_val: {y_val.shape}\")\n",
        "print(f\"X_test: {X_test.shape}, x_test:{y_test.shape}\")"
      ],
      "metadata": {
        "colab": {
          "base_uri": "https://localhost:8080/"
        },
        "id": "8vDPIQTaND2y",
        "outputId": "22d7df18-8112-4ecb-e726-67df27f71cb1"
      },
      "execution_count": 6,
      "outputs": [
        {
          "output_type": "stream",
          "name": "stdout",
          "text": [
            "X_train: (7072, 112, 150), y_train: (7072, 1)\n",
            "X_val: (786, 112, 150) y_val: (786, 1)\n",
            "X_test: (874, 112, 150), x_test:(874, 1)\n"
          ]
        }
      ]
    },
    {
      "cell_type": "code",
      "source": [
        "# Show distribution of the classes\n",
        "df_lbl = pd.DataFrame(columns = {'label'}, data = y_train)\n",
        "df_lbl['label'].value_counts()"
      ],
      "metadata": {
        "colab": {
          "base_uri": "https://localhost:8080/"
        },
        "id": "QWk2pwTnP6mi",
        "outputId": "bf670148-1221-486a-c354-141bb03c8c66"
      },
      "execution_count": 7,
      "outputs": [
        {
          "output_type": "execute_result",
          "data": {
            "text/plain": [
              "9    810\n",
              "2    810\n",
              "4    810\n",
              "5    810\n",
              "0    810\n",
              "7    810\n",
              "3    810\n",
              "8    752\n",
              "1    347\n",
              "6    303\n",
              "Name: label, dtype: int64"
            ]
          },
          "metadata": {},
          "execution_count": 7
        }
      ]
    },
    {
      "cell_type": "code",
      "source": [
        "df_lbl_tst = pd.DataFrame(columns = {'label'}, data = y_test)\n",
        "df_lbl_tst['label'].value_counts()"
      ],
      "metadata": {
        "colab": {
          "base_uri": "https://localhost:8080/"
        },
        "id": "Fje03qEdQzxD",
        "outputId": "63b4805a-4e95-4e21-ac9c-1176feaa3ac9"
      },
      "execution_count": 8,
      "outputs": [
        {
          "output_type": "execute_result",
          "data": {
            "text/plain": [
              "7    100\n",
              "0    100\n",
              "4    100\n",
              "9    100\n",
              "5    100\n",
              "2    100\n",
              "3    100\n",
              "8     93\n",
              "1     43\n",
              "6     38\n",
              "Name: label, dtype: int64"
            ]
          },
          "metadata": {},
          "execution_count": 8
        }
      ]
    },
    {
      "cell_type": "code",
      "source": [
        "X_train[0]"
      ],
      "metadata": {
        "id": "LNoDFsrEHgDu",
        "colab": {
          "base_uri": "https://localhost:8080/"
        },
        "outputId": "46ddaa43-9632-4bc0-ec99-3d0bf89decc8"
      },
      "execution_count": 9,
      "outputs": [
        {
          "output_type": "execute_result",
          "data": {
            "text/plain": [
              "array([[1.        , 0.47058824, 0.        , ..., 0.        , 0.        ,\n",
              "        0.        ],\n",
              "       [1.        , 0.47058824, 0.        , ..., 0.        , 0.        ,\n",
              "        0.        ],\n",
              "       [1.        , 0.47058824, 0.        , ..., 0.        , 0.        ,\n",
              "        0.        ],\n",
              "       ...,\n",
              "       [1.        , 0.47058824, 0.59215686, ..., 0.44313725, 0.50196078,\n",
              "        0.59215686],\n",
              "       [1.        , 0.45882353, 0.23137255, ..., 0.17254902, 0.15686275,\n",
              "        0.17254902],\n",
              "       [1.        , 1.        , 1.        , ..., 1.        , 1.        ,\n",
              "        1.        ]])"
            ]
          },
          "metadata": {},
          "execution_count": 9
        }
      ]
    },
    {
      "cell_type": "markdown",
      "source": [
        "#### Model Training and Evaluation"
      ],
      "metadata": {
        "id": "KcMCNaMGsY5e"
      }
    },
    {
      "cell_type": "code",
      "source": [
        "# Create a model\n",
        "model = tf.keras.Sequential()"
      ],
      "metadata": {
        "id": "e38HbnlEU9SS"
      },
      "execution_count": 10,
      "outputs": []
    },
    {
      "cell_type": "code",
      "source": [
        "# Add a convolution and max pooling layer\n",
        "size_x = int(X_train[0].shape[0])\n",
        "print(size_x)\n",
        "size_y = int(X_train[0].shape[1])\n",
        "print(size_y)\n",
        "\n",
        "model.add(tf.keras.layers.Conv2D(32,\n",
        "                              kernel_size=(7,7),\n",
        "                              strides=(1,1),\n",
        "                              padding=\"same\",\n",
        "                              activation=\"tanh\",\n",
        "                          input_shape= (size_x,size_y,1)))\n",
        "model.add(tf.keras.layers.MaxPooling2D(2,2))"
      ],
      "metadata": {
        "colab": {
          "base_uri": "https://localhost:8080/"
        },
        "id": "SQYVrqSI2soD",
        "outputId": "43d527a3-fca1-4062-8191-c7c3232c2bb8"
      },
      "execution_count": 11,
      "outputs": [
        {
          "output_type": "stream",
          "name": "stdout",
          "text": [
            "112\n",
            "150\n"
          ]
        }
      ]
    },
    {
      "cell_type": "code",
      "source": [
        "# Add more convolution and max pooling layers\n",
        "model.add(tf.keras.layers.Conv2D(64, \n",
        "                                 kernel_size=(7,7),\n",
        "                                 strides=(1,1),\n",
        "                                 padding='same',\n",
        "                                 activation='relu'))\n",
        "model.add(tf.keras.layers.MaxPooling2D((2,2)))\n",
        "model.add(tf.keras.layers.Conv2D(64,\n",
        "                                 kernel_size=(7,7),\n",
        "                                 strides=(1,1),\n",
        "                                 padding='same',\n",
        "                                 activation='relu'))\n"
      ],
      "metadata": {
        "id": "28YwVXCPI_-U"
      },
      "execution_count": 12,
      "outputs": []
    },
    {
      "cell_type": "code",
      "source": [
        "# Flatten the convolution layer\n",
        "model.add(tf.keras.layers.Flatten())"
      ],
      "metadata": {
        "id": "FFOcj-N9JDuA"
      },
      "execution_count": 13,
      "outputs": []
    },
    {
      "cell_type": "code",
      "source": [
        "# Add the dense layer and dropout layer\n",
        "model.add(tf.keras.layers.Dense(64, activation='relu'))\n",
        "model.add(tf.keras.layers.Dropout(0.5))\n",
        "# Add the dense layer and dropout layer\n",
        "model.add(tf.keras.layers.Dense(64, activation='relu'))\n",
        "model.add(tf.keras.layers.Dropout(0.5))"
      ],
      "metadata": {
        "id": "6t2_5LI5QXso"
      },
      "execution_count": 14,
      "outputs": []
    },
    {
      "cell_type": "code",
      "source": [
        "# Add the output layer\n",
        "model.add(tf.keras.layers.Dense(10, activation='softmax'))"
      ],
      "metadata": {
        "id": "xKLY8LexKtsx"
      },
      "execution_count": 15,
      "outputs": []
    },
    {
      "cell_type": "code",
      "source": [
        "# Compile the model\n",
        "model.compile(optimizer='adam',\n",
        "              loss='sparse_categorical_crossentropy',\n",
        "            metrics=['accuracy'])"
      ],
      "metadata": {
        "id": "KUaqYlMwh566"
      },
      "execution_count": 16,
      "outputs": []
    },
    {
      "cell_type": "code",
      "source": [
        "# Train the model for 50 epochs with batch size of 128\n",
        "results = model.fit( X_train, y_train, \n",
        "                     batch_size=32, \n",
        "                     epochs=40,\n",
        "                     validation_data=(X_val, y_val)\n",
        "                     )"
      ],
      "metadata": {
        "id": "OGk1WRxhIr3D",
        "colab": {
          "base_uri": "https://localhost:8080/"
        },
        "outputId": "f74e9cb4-3f3b-48fc-a387-fed0cae25b32"
      },
      "execution_count": 17,
      "outputs": [
        {
          "output_type": "stream",
          "name": "stdout",
          "text": [
            "Epoch 1/40\n",
            "221/221 [==============================] - 104s 467ms/step - loss: 2.0146 - accuracy: 0.2568 - val_loss: 1.5129 - val_accuracy: 0.5038\n",
            "Epoch 2/40\n",
            "221/221 [==============================] - 103s 465ms/step - loss: 1.5372 - accuracy: 0.4570 - val_loss: 1.1312 - val_accuracy: 0.6247\n",
            "Epoch 3/40\n",
            "221/221 [==============================] - 103s 468ms/step - loss: 1.2717 - accuracy: 0.5618 - val_loss: 0.8935 - val_accuracy: 0.7303\n",
            "Epoch 4/40\n",
            "221/221 [==============================] - 103s 465ms/step - loss: 1.0625 - accuracy: 0.6434 - val_loss: 0.7172 - val_accuracy: 0.7952\n",
            "Epoch 5/40\n",
            "221/221 [==============================] - 103s 466ms/step - loss: 0.9380 - accuracy: 0.6968 - val_loss: 0.7310 - val_accuracy: 0.7812\n",
            "Epoch 6/40\n",
            "221/221 [==============================] - 103s 467ms/step - loss: 0.8276 - accuracy: 0.7316 - val_loss: 0.6596 - val_accuracy: 0.8041\n",
            "Epoch 7/40\n",
            "221/221 [==============================] - 103s 468ms/step - loss: 0.7218 - accuracy: 0.7643 - val_loss: 0.5119 - val_accuracy: 0.8422\n",
            "Epoch 8/40\n",
            "221/221 [==============================] - 103s 466ms/step - loss: 0.6761 - accuracy: 0.7893 - val_loss: 0.4788 - val_accuracy: 0.8397\n",
            "Epoch 9/40\n",
            "221/221 [==============================] - 103s 465ms/step - loss: 0.6029 - accuracy: 0.8022 - val_loss: 0.4741 - val_accuracy: 0.8550\n",
            "Epoch 10/40\n",
            "221/221 [==============================] - 103s 465ms/step - loss: 0.5350 - accuracy: 0.8261 - val_loss: 0.5079 - val_accuracy: 0.8384\n",
            "Epoch 11/40\n",
            "221/221 [==============================] - 103s 466ms/step - loss: 0.5177 - accuracy: 0.8299 - val_loss: 0.4850 - val_accuracy: 0.8410\n",
            "Epoch 12/40\n",
            "221/221 [==============================] - 103s 465ms/step - loss: 0.4684 - accuracy: 0.8469 - val_loss: 0.4301 - val_accuracy: 0.8639\n",
            "Epoch 13/40\n",
            "221/221 [==============================] - 103s 464ms/step - loss: 0.5004 - accuracy: 0.8340 - val_loss: 0.4357 - val_accuracy: 0.8613\n",
            "Epoch 14/40\n",
            "221/221 [==============================] - 103s 466ms/step - loss: 0.4329 - accuracy: 0.8614 - val_loss: 0.4433 - val_accuracy: 0.8677\n",
            "Epoch 15/40\n",
            "221/221 [==============================] - 103s 466ms/step - loss: 0.3987 - accuracy: 0.8698 - val_loss: 0.4587 - val_accuracy: 0.8626\n",
            "Epoch 16/40\n",
            "221/221 [==============================] - 103s 465ms/step - loss: 0.3602 - accuracy: 0.8784 - val_loss: 0.4800 - val_accuracy: 0.8664\n",
            "Epoch 17/40\n",
            "221/221 [==============================] - 103s 466ms/step - loss: 0.4061 - accuracy: 0.8661 - val_loss: 0.4635 - val_accuracy: 0.8486\n",
            "Epoch 18/40\n",
            "221/221 [==============================] - 103s 466ms/step - loss: 0.3776 - accuracy: 0.8805 - val_loss: 0.4467 - val_accuracy: 0.8664\n",
            "Epoch 19/40\n",
            "221/221 [==============================] - 103s 464ms/step - loss: 0.3421 - accuracy: 0.8890 - val_loss: 0.4691 - val_accuracy: 0.8817\n",
            "Epoch 20/40\n",
            "221/221 [==============================] - 103s 466ms/step - loss: 0.3290 - accuracy: 0.8911 - val_loss: 0.4602 - val_accuracy: 0.8740\n",
            "Epoch 21/40\n",
            "221/221 [==============================] - 103s 467ms/step - loss: 0.3134 - accuracy: 0.8924 - val_loss: 0.5170 - val_accuracy: 0.8728\n",
            "Epoch 22/40\n",
            "221/221 [==============================] - 103s 468ms/step - loss: 0.3008 - accuracy: 0.8982 - val_loss: 0.4710 - val_accuracy: 0.8728\n",
            "Epoch 23/40\n",
            "221/221 [==============================] - 104s 469ms/step - loss: 0.2946 - accuracy: 0.8972 - val_loss: 0.4755 - val_accuracy: 0.8753\n",
            "Epoch 24/40\n",
            "221/221 [==============================] - 104s 469ms/step - loss: 0.4092 - accuracy: 0.8756 - val_loss: 0.6217 - val_accuracy: 0.8664\n",
            "Epoch 25/40\n",
            "221/221 [==============================] - 103s 468ms/step - loss: 0.2800 - accuracy: 0.8993 - val_loss: 0.5956 - val_accuracy: 0.8613\n",
            "Epoch 26/40\n",
            "221/221 [==============================] - 104s 469ms/step - loss: 0.2790 - accuracy: 0.9041 - val_loss: 0.5155 - val_accuracy: 0.8715\n",
            "Epoch 27/40\n",
            "221/221 [==============================] - 104s 469ms/step - loss: 0.2466 - accuracy: 0.9125 - val_loss: 0.5857 - val_accuracy: 0.8728\n",
            "Epoch 28/40\n",
            "221/221 [==============================] - 104s 468ms/step - loss: 0.2414 - accuracy: 0.9128 - val_loss: 0.5865 - val_accuracy: 0.8690\n",
            "Epoch 29/40\n",
            "221/221 [==============================] - 103s 467ms/step - loss: 0.2484 - accuracy: 0.9163 - val_loss: 0.5431 - val_accuracy: 0.8766\n",
            "Epoch 30/40\n",
            "221/221 [==============================] - 104s 468ms/step - loss: 0.2558 - accuracy: 0.9143 - val_loss: 0.6079 - val_accuracy: 0.8626\n",
            "Epoch 31/40\n",
            "221/221 [==============================] - 103s 468ms/step - loss: 0.2710 - accuracy: 0.9067 - val_loss: 0.5479 - val_accuracy: 0.8702\n",
            "Epoch 32/40\n",
            "221/221 [==============================] - 103s 468ms/step - loss: 0.2762 - accuracy: 0.9088 - val_loss: 0.5197 - val_accuracy: 0.8868\n",
            "Epoch 33/40\n",
            "221/221 [==============================] - 103s 467ms/step - loss: 0.2043 - accuracy: 0.9269 - val_loss: 0.4742 - val_accuracy: 0.8868\n",
            "Epoch 34/40\n",
            "221/221 [==============================] - 103s 467ms/step - loss: 0.2057 - accuracy: 0.9231 - val_loss: 0.5312 - val_accuracy: 0.8880\n",
            "Epoch 35/40\n",
            "221/221 [==============================] - 104s 469ms/step - loss: 0.2482 - accuracy: 0.9169 - val_loss: 0.5747 - val_accuracy: 0.8702\n",
            "Epoch 36/40\n",
            "221/221 [==============================] - 104s 468ms/step - loss: 0.2212 - accuracy: 0.9246 - val_loss: 0.6237 - val_accuracy: 0.8728\n",
            "Epoch 37/40\n",
            "221/221 [==============================] - 103s 468ms/step - loss: 0.2498 - accuracy: 0.9156 - val_loss: 0.7201 - val_accuracy: 0.8410\n",
            "Epoch 38/40\n",
            "221/221 [==============================] - 103s 468ms/step - loss: 0.2655 - accuracy: 0.9149 - val_loss: 0.5236 - val_accuracy: 0.8791\n",
            "Epoch 39/40\n",
            "221/221 [==============================] - 104s 470ms/step - loss: 0.2148 - accuracy: 0.9242 - val_loss: 0.6290 - val_accuracy: 0.8728\n",
            "Epoch 40/40\n",
            "221/221 [==============================] - 104s 469ms/step - loss: 0.2184 - accuracy: 0.9201 - val_loss: 0.5231 - val_accuracy: 0.8880\n"
          ]
        }
      ]
    },
    {
      "cell_type": "markdown",
      "source": [
        "#### Evaluation"
      ],
      "metadata": {
        "id": "ukZy8pt9y99S"
      }
    },
    {
      "cell_type": "code",
      "source": [
        "# Plot the the training loss\n",
        "plt.plot(results.history['loss'], label='loss')\n",
        "\n",
        "# Plot the the validation loss\n",
        "plt.plot(results.history['val_loss'], label='val_loss')\n",
        "\n",
        "# Name the x and y axises\n",
        "plt.xlabel('Epoch')\n",
        "plt.ylabel('Loss')\n",
        "# Put legend table\n",
        "plt.legend()\n",
        "\n",
        "# Show the plot\n",
        "plt.show()"
      ],
      "metadata": {
        "id": "QCkhCF2mrDuA",
        "colab": {
          "base_uri": "https://localhost:8080/",
          "height": 279
        },
        "outputId": "b795a15c-7d52-4adc-a253-11dceef0514d"
      },
      "execution_count": 18,
      "outputs": [
        {
          "output_type": "display_data",
          "data": {
            "text/plain": [
              "<Figure size 432x288 with 1 Axes>"
            ],
            "image/png": "[encoded data removed]"
          },
          "metadata": {
            "needs_background": "light"
          }
        }
      ]
    },
    {
      "cell_type": "code",
      "source": [
        "# Plot the the training accuracy\n",
        "plt.plot(results.history['accuracy'], label='accuracy')\n",
        "\n",
        "\n",
        "# Plot the the validation accuracy\n",
        "plt.plot(results.history['val_accuracy'], label='val_accuracy')\n",
        "\n",
        "# Name the x and y axises\n",
        "plt.xlabel('Epoch')\n",
        "plt.ylabel('Accuracy')\n",
        "\n",
        "# Put legend table\n",
        "plt.legend()\n",
        "\n",
        "# Show the plot\n",
        "plt.show()"
      ],
      "metadata": {
        "id": "TqRG74X-MhyR",
        "colab": {
          "base_uri": "https://localhost:8080/",
          "height": 279
        },
        "outputId": "0774fe30-6b43-4b0f-c0bc-fe674d365a46"
      },
      "execution_count": 19,
      "outputs": [
        {
          "output_type": "display_data",
          "data": {
            "text/plain": [
              "<Figure size 432x288 with 1 Axes>"
            ],
            "image/png": "[encoded data removed]"
          },
          "metadata": {
            "needs_background": "light"
          }
        }
      ]
    },
    {
      "cell_type": "code",
      "source": [
        "# Evaluate the performance\n",
        "model.evaluate(X_test, y_test)"
      ],
      "metadata": {
        "id": "KhO6jK8AMhiN",
        "colab": {
          "base_uri": "https://localhost:8080/"
        },
        "outputId": "1a9f8982-4a4a-4068-83c5-67b64b6bc025"
      },
      "execution_count": 20,
      "outputs": [
        {
          "output_type": "stream",
          "name": "stdout",
          "text": [
            "28/28 [==============================] - 2s 56ms/step - loss: 0.6884 - accuracy: 0.8707\n"
          ]
        },
        {
          "output_type": "execute_result",
          "data": {
            "text/plain": [
              "[0.6883988380432129, 0.8707093596458435]"
            ]
          },
          "metadata": {},
          "execution_count": 20
        }
      ]
    },
    {
      "cell_type": "code",
      "source": [
        "# Make prediction on the reshaped sample\n",
        "sample_number = 102\n",
        "prediction_result = model.predict(X_test[sample_number].reshape(1,size_x,size_y,1))\n",
        "\n",
        "# Print the prediction result\n",
        "prediction_result"
      ],
      "metadata": {
        "id": "0tW1rz5wrcFW",
        "colab": {
          "base_uri": "https://localhost:8080/"
        },
        "outputId": "2153d14f-266b-4a3e-bfca-38c50dbb71a2"
      },
      "execution_count": 21,
      "outputs": [
        {
          "output_type": "execute_result",
          "data": {
            "text/plain": [
              "array([[9.2569898e-32, 7.9975609e-36, 5.6241601e-34, 1.1407422e-16,\n",
              "        1.0000000e+00, 2.0377265e-36, 1.9843124e-37, 4.1865337e-23,\n",
              "        2.3077358e-35, 2.0340432e-38]], dtype=float32)"
            ]
          },
          "metadata": {},
          "execution_count": 21
        }
      ]
    },
    {
      "cell_type": "code",
      "source": [
        "# Find the predicted class\n",
        "predicted_class = prediction_result.argmax()\n",
        "# Find the prediction probability\n",
        "predicted_probability = prediction_result.max()"
      ],
      "metadata": {
        "id": "nwzciFW3rq8i"
      },
      "execution_count": 22,
      "outputs": []
    },
    {
      "cell_type": "code",
      "source": [
        "# Print the results\n",
        "print(f\"This image belongs to class {predicted_class} with {predicted_probability} probability.\")\n",
        "print(f\"This image actually belongs to class {y_test[sample_number]} \")"
      ],
      "metadata": {
        "id": "y00kvma6aFOn",
        "colab": {
          "base_uri": "https://localhost:8080/"
        },
        "outputId": "e3c469c0-2d0c-4cc5-d085-dbe38123c968"
      },
      "execution_count": 23,
      "outputs": [
        {
          "output_type": "stream",
          "name": "stdout",
          "text": [
            "This image belongs to class 4 with 1.0 probability.\n",
            "This image actually belongs to class [4] \n"
          ]
        }
      ]
    },
    {
      "cell_type": "markdown",
      "source": [
        "\n",
        "*   The model is built and different hyperparameters were tried as changing one parameter at a time and fixing the others.\n",
        "\n",
        "*   The kernel sizes such as 3x3, 5x5, 7x7 and 9x9 are tried. The accuracy results were 0.8787, 0.8741, 0.8879 and 0.8467 respectively. We chose the 7x7 kernel which is the best. \n",
        "\n",
        "*   Tanh was used as the activation function. However the accuracy was 0.11 and we chose the other function which is relu.\n",
        "\n",
        "*   50 epochs were too much to train, because the loss graph was flat after 25 epochs. We kept it in 40 to assure having the sufficient training time. \n",
        "\n",
        "*   Number of kernels were reduced to half and increased to the twice. Reducing the number decreased the accuracy to 84.90, and inreasing results in the accuracy of 0.8535\n",
        "\n",
        "* Finally we run the model with the best parameters among all combinations. \n",
        "\n",
        "\n",
        "\n",
        " \n",
        "\n",
        "\n",
        "\n"
      ],
      "metadata": {
        "id": "LlsOhy0JmfVi"
      }
    }
  ]
}